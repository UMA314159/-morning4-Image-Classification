{
  "nbformat": 4,
  "nbformat_minor": 0,
  "metadata": {
    "colab": {
      "name": "0から作るディープラーニング参考.ipynb",
      "provenance": [],
      "collapsed_sections": [],
      "mount_file_id": "1kFeUgcq702ZGB6MmplMA1QNCMTUETOE1",
      "authorship_tag": "ABX9TyMTHKmpAEY7i6g3hza0rwjx",
      "include_colab_link": true
    },
    "kernelspec": {
      "name": "python3",
      "display_name": "Python 3"
    },
    "language_info": {
      "name": "python"
    }
  },
  "cells": [
    {
      "cell_type": "markdown",
      "metadata": {
        "id": "view-in-github",
        "colab_type": "text"
      },
      "source": [
        "<a href=\"https://colab.research.google.com/github/UMA314159/-morning4-Image-Classification/blob/main/0%E3%81%8B%E3%82%89%E4%BD%9C%E3%82%8B%E3%83%87%E3%82%A3%E3%83%BC%E3%83%97%E3%83%A9%E3%83%BC%E3%83%8B%E3%83%B3%E3%82%B0%E5%8F%82%E8%80%83.ipynb\" target=\"_parent\"><img src=\"https://colab.research.google.com/assets/colab-badge.svg\" alt=\"Open In Colab\"/></a>"
      ]
    },
    {
      "cell_type": "code",
      "execution_count": 1,
      "metadata": {
        "colab": {
          "base_uri": "https://localhost:8080/"
        },
        "id": "NKKkh4y34H_D",
        "outputId": "31295b1f-90d5-4b58-e2fa-116b00c412b1"
      },
      "outputs": [
        {
          "output_type": "stream",
          "name": "stdout",
          "text": [
            "/content/drive/MyDrive/Colab Notebooks/-morning4-SIGNATE-画像ラベリング\n",
            "Cloning into '-morning4-Image-Classification'...\n",
            "warning: You appear to have cloned an empty repository.\n"
          ]
        }
      ],
      "source": [
        "%cd /content/drive/MyDrive/Colab Notebooks/-morning4-SIGNATE-画像ラベリング\n",
        "!git clone https://github.com/UMA314159/-morning4-Image-Classification.git"
      ]
    },
    {
      "cell_type": "code",
      "source": [
        "import pandas as pd\n",
        "import numpy as np\n",
        "import seaborn as sns\n"
      ],
      "metadata": {
        "id": "euulcGMgVzAG"
      },
      "execution_count": 7,
      "outputs": []
    },
    {
      "cell_type": "code",
      "source": [
        ""
      ],
      "metadata": {
        "id": "telXMSOIV6zU"
      },
      "execution_count": null,
      "outputs": []
    }
  ]
}