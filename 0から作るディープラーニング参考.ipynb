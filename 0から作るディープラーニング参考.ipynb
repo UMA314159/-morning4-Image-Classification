{
  "nbformat": 4,
  "nbformat_minor": 0,
  "metadata": {
    "colab": {
      "name": "0から作るディープラーニング参考.ipynb",
      "provenance": [],
      "collapsed_sections": [],
      "mount_file_id": "1kFeUgcq702ZGB6MmplMA1QNCMTUETOE1",
      "authorship_tag": "ABX9TyORJcbxGVW35hlC8IHuO2Sw",
      "include_colab_link": true
    },
    "kernelspec": {
      "name": "python3",
      "display_name": "Python 3"
    },
    "language_info": {
      "name": "python"
    }
  },
  "cells": [
    {
      "cell_type": "markdown",
      "metadata": {
        "id": "view-in-github",
        "colab_type": "text"
      },
      "source": [
        "<a href=\"https://colab.research.google.com/github/UMA314159/-morning4-Image-Classification/blob/main/0%E3%81%8B%E3%82%89%E4%BD%9C%E3%82%8B%E3%83%87%E3%82%A3%E3%83%BC%E3%83%97%E3%83%A9%E3%83%BC%E3%83%8B%E3%83%B3%E3%82%B0%E5%8F%82%E8%80%83.ipynb\" target=\"_parent\"><img src=\"https://colab.research.google.com/assets/colab-badge.svg\" alt=\"Open In Colab\"/></a>"
      ]
    },
    {
      "cell_type": "code",
      "execution_count": 1,
      "metadata": {
        "colab": {
          "base_uri": "https://localhost:8080/"
        },
        "id": "NKKkh4y34H_D",
        "outputId": "38daea00-cfef-475b-d6a6-7d492f6d61af"
      },
      "outputs": [
        {
          "output_type": "stream",
          "name": "stdout",
          "text": [
            "Drive already mounted at /content/drive; to attempt to forcibly remount, call drive.mount(\"/content/drive\", force_remount=True).\n"
          ]
        }
      ],
      "source": [
        "#google ColabのDriveモジュールをインポートして、Googleドライブをマウントする許可を実行する。\n",
        "from google.colab import drive\n",
        "drive.mount('/content/drive')"
      ]
    },
    {
      "cell_type": "code",
      "source": [
        "#Zipfileを解凍\n",
        "import zipfile\n",
        "\n",
        "#with zipfile.ZipFile('/content/drive/MyDrive/Colab Notebooks/-morning4-SIGNATE-画像ラベリング/data/test_images.zip' , 'r') as zip_ref:\n",
        "#    zip_ref.extractall('/content/drive/MyDrive/Colab Notebooks/-morning4-SIGNATE-画像ラベリング/data/test_images/')"
      ],
      "metadata": {
        "id": "BywtTYyYG106"
      },
      "execution_count": 2,
      "outputs": []
    },
    {
      "cell_type": "code",
      "source": [
        "#with zipfile.ZipFile('/content/drive/MyDrive/Colab Notebooks/-morning4-SIGNATE-画像ラベリング/data/test_images.zip' , 'r') as zip_ref:\n",
        "#    zip_ref.extractall('/content/drive/MyDrive/Colab Notebooks/-morning4-SIGNATE-画像ラベリング/data/test_images/')"
      ],
      "metadata": {
        "id": "hxandDjWHjZn"
      },
      "execution_count": 3,
      "outputs": []
    },
    {
      "cell_type": "code",
      "source": [
        "import pandas as pd\n",
        "import numpy as np\n",
        "import seaborn as sns\n"
      ],
      "metadata": {
        "id": "euulcGMgVzAG"
      },
      "execution_count": 7,
      "outputs": []
    },
    {
      "cell_type": "code",
      "source": [
        ""
      ],
      "metadata": {
        "id": "telXMSOIV6zU"
      },
      "execution_count": null,
      "outputs": []
    }
  ]
}